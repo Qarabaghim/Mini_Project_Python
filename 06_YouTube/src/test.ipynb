{
 "cells": [
  {
   "cell_type": "code",
   "id": "initial_id",
   "metadata": {
    "collapsed": true,
    "ExecuteTime": {
     "end_time": "2025-08-04T11:25:23.474458Z",
     "start_time": "2025-08-04T11:25:23.470974Z"
    }
   },
   "source": "from pytube import YouTube",
   "outputs": [],
   "execution_count": 11
  },
  {
   "metadata": {},
   "cell_type": "code",
   "outputs": [],
   "execution_count": null,
   "source": [
    "y = YouTube(\"http://youtube.com/watch?v=2lAe1cqCOXo\")\n",
    "y.streams.filter(progressive=True,file_extension='mp4').order_by('resolution').first().download()"
   ],
   "id": "649a77c8ea5735db"
  }
 ],
 "metadata": {
  "kernelspec": {
   "display_name": "Python 3",
   "language": "python",
   "name": "python3"
  },
  "language_info": {
   "codemirror_mode": {
    "name": "ipython",
    "version": 2
   },
   "file_extension": ".py",
   "mimetype": "text/x-python",
   "name": "python",
   "nbconvert_exporter": "python",
   "pygments_lexer": "ipython2",
   "version": "2.7.6"
  }
 },
 "nbformat": 4,
 "nbformat_minor": 5
}
